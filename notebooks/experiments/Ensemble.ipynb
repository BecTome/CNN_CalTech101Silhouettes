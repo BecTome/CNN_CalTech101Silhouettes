{
 "cells": [
  {
   "cell_type": "markdown",
   "metadata": {},
   "source": [
    "# Ensemble best models"
   ]
  },
  {
   "cell_type": "code",
   "execution_count": 1,
   "metadata": {},
   "outputs": [
    {
     "name": "stderr",
     "output_type": "stream",
     "text": [
      "2023-11-17 16:48:22.648025: I tensorflow/core/util/port.cc:110] oneDNN custom operations are on. You may see slightly different numerical results due to floating-point round-off errors from different computation orders. To turn them off, set the environment variable `TF_ENABLE_ONEDNN_OPTS=0`.\n",
      "2023-11-17 16:48:22.671777: I tensorflow/core/platform/cpu_feature_guard.cc:182] This TensorFlow binary is optimized to use available CPU instructions in performance-critical operations.\n",
      "To enable the following instructions: AVX2 AVX_VNNI FMA, in other operations, rebuild TensorFlow with the appropriate compiler flags.\n",
      "2023-11-17 16:48:23.079484: W tensorflow/compiler/tf2tensorrt/utils/py_utils.cc:38] TF-TRT Warning: Could not find TensorRT\n",
      "2023-11-17 16:48:25.080950: E tensorflow/compiler/xla/stream_executor/cuda/cuda_driver.cc:268] failed call to cuInit: CUDA_ERROR_UNKNOWN: unknown error\n",
      "2023-11-17 16:48:25.080983: I tensorflow/compiler/xla/stream_executor/cuda/cuda_diagnostics.cc:168] retrieving CUDA diagnostic information for host: maquinon\n",
      "2023-11-17 16:48:25.080986: I tensorflow/compiler/xla/stream_executor/cuda/cuda_diagnostics.cc:175] hostname: maquinon\n",
      "2023-11-17 16:48:25.081140: I tensorflow/compiler/xla/stream_executor/cuda/cuda_diagnostics.cc:199] libcuda reported version is: 535.129.3\n",
      "2023-11-17 16:48:25.081149: I tensorflow/compiler/xla/stream_executor/cuda/cuda_diagnostics.cc:203] kernel reported version is: 535.129.3\n",
      "2023-11-17 16:48:25.081150: I tensorflow/compiler/xla/stream_executor/cuda/cuda_diagnostics.cc:309] kernel version seems to match DSO: 535.129.3\n"
     ]
    }
   ],
   "source": [
    "import tensorflow as tf\n",
    "from tensorflow import keras\n",
    "import numpy as np\n",
    "\n",
    "# Load model\n",
    "MODEL_PATH_2= \"results/regularization/2_layer/01_10_acc_es_128_l2_9_bn_256_l2_9_bn_conv_1024_dout_08_512_dense/pt_80_10_10_lr_0.0001_bs_64_ep_100/model.h5\"\n",
    "model_2 = tf.keras.models.load_model(MODEL_PATH_2)\n",
    "\n",
    "MODEL_PATH_3= \"results/regularization/3_layer/01_20_acc_es_32_l2_9_bn_64_l2_9_bn_128_l2_9_bn_nopool_conv_1024_dout_09_512_dense/pt_80_10_10_lr_0.0001_bs_64_ep_200/model.h5\"\n",
    "model_3 = tf.keras.models.load_model(MODEL_PATH_3)\n",
    "\n",
    "def soft_voting(ls_models, X, n_out=101):\n",
    "    y = np.zeros((X.shape[0], n_out))\n",
    "    for model in ls_models:\n",
    "        y += model.predict(X)\n",
    "    return np.argmax(y, axis=1)\n"
   ]
  },
  {
   "cell_type": "code",
   "execution_count": 2,
   "metadata": {},
   "outputs": [],
   "source": [
    "from src.dataloader import read_train, read_val, read_test\n",
    "X_train, y_train = read_train(\"input/data/train_80_10_10/\")\n",
    "X_val, y_val = read_val(\"input/data/train_80_10_10/\")\n",
    "X_test, y_test = read_test(\"input/data/train_80_10_10/\")"
   ]
  },
  {
   "cell_type": "code",
   "execution_count": 9,
   "metadata": {},
   "outputs": [
    {
     "name": "stdout",
     "output_type": "stream",
     "text": [
      "2 LAYERS TRAIN:  0.9251837730407715\n",
      "3 LAYERS TRAIN:  0.8440247774124146\n",
      "2 LAYERS VALID:  0.7797001004219055\n",
      "3 LAYERS VALID:  0.7600922584533691\n",
      "2 LAYERS TEST:  0.7289503812789917\n",
      "3 LAYERS TEST:  0.7151095867156982\n"
     ]
    }
   ],
   "source": [
    "# EVALUATE\n",
    "print(\"2 LAYERS TRAIN: \", model_2.evaluate(X_train, y_train, verbose=0)[1])\n",
    "print(\"3 LAYERS TRAIN: \", model_3.evaluate(X_train, y_train, verbose=0)[1])\n",
    "\n",
    "print(\"2 LAYERS VALID: \", model_2.evaluate(X_val, y_val, verbose=0)[1])\n",
    "print(\"3 LAYERS VALID: \", model_3.evaluate(X_val, y_val, verbose=0)[1])\n",
    "\n",
    "print(\"2 LAYERS TEST: \", model_2.evaluate(X_test, y_test, verbose=0)[1])\n",
    "print(\"3 LAYERS TEST: \", model_3.evaluate(X_test, y_test, verbose=0)[1])"
   ]
  },
  {
   "cell_type": "code",
   "execution_count": 10,
   "metadata": {},
   "outputs": [
    {
     "name": "stdout",
     "output_type": "stream",
     "text": [
      "217/217 [==============================] - 2s 10ms/step\n",
      "217/217 [==============================] - 1s 3ms/step\n",
      "ENSEMBLE TRAIN:  0.9150929796742108\n",
      "28/28 [==============================] - 0s 8ms/step\n",
      "28/28 [==============================] - 0s 2ms/step\n",
      "ENSEMBLE VAL:  0.7797001153402537\n",
      "28/28 [==============================] - 0s 6ms/step\n",
      "28/28 [==============================] - 0s 2ms/step\n",
      "ENSEMBLE TEST:  0.734717416378316\n"
     ]
    }
   ],
   "source": [
    "y_pred_train = soft_voting([model_2, model_3], X_train)\n",
    "print(\"ENSEMBLE TRAIN: \", np.mean(y_pred_train == y_train))\n",
    "\n",
    "y_pred_val = soft_voting([model_2, model_3], X_val)\n",
    "print(\"ENSEMBLE VAL: \", np.mean(y_pred_val == y_val))\n",
    "\n",
    "y_pred = soft_voting([model_2, model_3], X_test)\n",
    "print(\"ENSEMBLE TEST: \", np.mean(y_pred == y_test))"
   ]
  },
  {
   "cell_type": "code",
   "execution_count": 8,
   "metadata": {},
   "outputs": [
    {
     "name": "stdout",
     "output_type": "stream",
     "text": [
      "28/28 [==============================] - 0s 9ms/step\n",
      "28/28 [==============================] - 0s 4ms/step\n",
      "ENSEMBLE TEST:  0.734717416378316\n"
     ]
    }
   ],
   "source": [
    "y_pred = soft_voting([model_2, model_3], X_test)\n",
    "print(\"ENSEMBLE TEST: \", np.mean(y_pred == y_test))"
   ]
  }
 ],
 "metadata": {
  "kernelspec": {
   "display_name": "tensorflow",
   "language": "python",
   "name": "python3"
  },
  "language_info": {
   "codemirror_mode": {
    "name": "ipython",
    "version": 3
   },
   "file_extension": ".py",
   "mimetype": "text/x-python",
   "name": "python",
   "nbconvert_exporter": "python",
   "pygments_lexer": "ipython3",
   "version": "3.11.5"
  }
 },
 "nbformat": 4,
 "nbformat_minor": 2
}
