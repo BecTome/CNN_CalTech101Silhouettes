{
 "cells": [
  {
   "cell_type": "code",
   "execution_count": 1,
   "metadata": {},
   "outputs": [
    {
     "name": "stderr",
     "output_type": "stream",
     "text": [
      "2023-11-17 12:32:51.491431: I tensorflow/core/util/port.cc:110] oneDNN custom operations are on. You may see slightly different numerical results due to floating-point round-off errors from different computation orders. To turn them off, set the environment variable `TF_ENABLE_ONEDNN_OPTS=0`.\n",
      "2023-11-17 12:32:51.515892: I tensorflow/core/platform/cpu_feature_guard.cc:182] This TensorFlow binary is optimized to use available CPU instructions in performance-critical operations.\n",
      "To enable the following instructions: AVX2 AVX_VNNI FMA, in other operations, rebuild TensorFlow with the appropriate compiler flags.\n",
      "2023-11-17 12:32:51.924226: W tensorflow/compiler/tf2tensorrt/utils/py_utils.cc:38] TF-TRT Warning: Could not find TensorRT\n",
      "2023-11-17 12:32:52.507123: E tensorflow/compiler/xla/stream_executor/cuda/cuda_driver.cc:268] failed call to cuInit: CUDA_ERROR_UNKNOWN: unknown error\n",
      "2023-11-17 12:32:52.507156: I tensorflow/compiler/xla/stream_executor/cuda/cuda_diagnostics.cc:168] retrieving CUDA diagnostic information for host: maquinon\n",
      "2023-11-17 12:32:52.507159: I tensorflow/compiler/xla/stream_executor/cuda/cuda_diagnostics.cc:175] hostname: maquinon\n",
      "2023-11-17 12:32:52.507287: I tensorflow/compiler/xla/stream_executor/cuda/cuda_diagnostics.cc:199] libcuda reported version is: 535.129.3\n",
      "2023-11-17 12:32:52.507299: I tensorflow/compiler/xla/stream_executor/cuda/cuda_diagnostics.cc:203] kernel reported version is: 535.129.3\n",
      "2023-11-17 12:32:52.507302: I tensorflow/compiler/xla/stream_executor/cuda/cuda_diagnostics.cc:309] kernel version seems to match DSO: 535.129.3\n"
     ]
    }
   ],
   "source": [
    "import tensorflow as tf\n",
    "from tensorflow import keras\n",
    "import numpy as np\n",
    "\n",
    "# Load model\n",
    "MODEL_PATH= \"output/SGDreg_128_256_conv_1024_dout_09_512_dout_07_256_dense/pt_80_10_10_lr_0.01_bs_64_ep_200/model.h5\"\n",
    "model = tf.keras.models.load_model(MODEL_PATH)"
   ]
  },
  {
   "cell_type": "code",
   "execution_count": 2,
   "metadata": {},
   "outputs": [],
   "source": [
    "from src.dataloader import read_train, read_val\n",
    "X_train, y_train = read_train(\"input/data/train_80_10_10\")\n",
    "X_val, y_val = read_val(\"input/data/train_80_10_10\")"
   ]
  },
  {
   "cell_type": "code",
   "execution_count": 3,
   "metadata": {},
   "outputs": [
    {
     "name": "stdout",
     "output_type": "stream",
     "text": [
      "217/217 [==============================] - 4s 17ms/step\n",
      "0.8554130027389362\n"
     ]
    }
   ],
   "source": [
    "y_pred = model.predict(X_train)\n",
    "y_pred = np.argmax(y_pred, axis=1)\n",
    "\n",
    "from sklearn.metrics import accuracy_score\n",
    "print(accuracy_score(y_train, y_pred))"
   ]
  },
  {
   "cell_type": "code",
   "execution_count": 4,
   "metadata": {},
   "outputs": [],
   "source": [
    "import src.config as config\n",
    "output_shape = len(config.LABELS)\n",
    "LEARNING_RATE = 0.0001\n",
    "BATCH_SIZE = 64\n",
    "\n",
    "layers = [\n",
    "            keras.Input(shape=(config.IMG_SIZE, config.IMG_SIZE, config.N_CHANNELS)),\n",
    "            keras.layers.Conv2D(32,(3,3), activation = 'relu', \n",
    "                                kernel_regularizer=keras.regularizers.l2(0.9)),\n",
    "            keras.layers.MaxPooling2D(pool_size = (2, 2)),\n",
    "            keras.layers.BatchNormalization(),\n",
    "            keras.layers.Conv2D(64,(3,3), activation = 'relu', \n",
    "                                kernel_regularizer=keras.regularizers.l2(0.9)),\n",
    "            keras.layers.MaxPooling2D(pool_size = (2, 2)),\n",
    "            keras.layers.BatchNormalization(),\n",
    "            keras.layers.Conv2D(128,(3,3), activation = 'relu', \n",
    "                                kernel_regularizer=keras.regularizers.l2(0.9)),\n",
    "            keras.layers.BatchNormalization(),\n",
    "\n",
    "            keras.layers.Flatten(),\n",
    "            keras.layers.Dense(1024, activation='relu'),\n",
    "            keras.layers.Dropout(0.9),\n",
    "            keras.layers.Dense(512, activation='relu'),\n",
    "            keras.layers.Dense(output_shape, activation='softmax')\n",
    "]\n",
    "\n",
    "model = keras.Sequential(layers)\n",
    "\n",
    "model.compile(optimizer=keras.optimizers.legacy.Adam(learning_rate=LEARNING_RATE),\n",
    "              loss='sparse_categorical_crossentropy',\n",
    "              metrics=['accuracy'])"
   ]
  },
  {
   "cell_type": "code",
   "execution_count": 5,
   "metadata": {},
   "outputs": [
    {
     "name": "stdout",
     "output_type": "stream",
     "text": [
      "<class 'numpy.ndarray'>\n",
      "Epoch 1/200\n",
      "109/109 [==============================] - 2s 18ms/step - loss: 47.8436 - accuracy: 0.1139 - val_loss: 41.8982 - val_accuracy: 0.1430\n",
      "Epoch 2/200\n",
      "109/109 [==============================] - 2s 19ms/step - loss: 36.7674 - accuracy: 0.2070 - val_loss: 32.5953 - val_accuracy: 0.1326\n",
      "Epoch 3/200\n",
      "109/109 [==============================] - 2s 17ms/step - loss: 28.3978 - accuracy: 0.2269 - val_loss: 25.3172 - val_accuracy: 0.2076\n",
      "Epoch 4/200\n",
      "109/109 [==============================] - 2s 16ms/step - loss: 22.0014 - accuracy: 0.2518 - val_loss: 19.6313 - val_accuracy: 0.2549\n",
      "Epoch 5/200\n",
      "109/109 [==============================] - 2s 16ms/step - loss: 17.0973 - accuracy: 0.2665 - val_loss: 15.2362 - val_accuracy: 0.3253\n",
      "Epoch 6/200\n",
      "109/109 [==============================] - 2s 16ms/step - loss: 13.4125 - accuracy: 0.2885 - val_loss: 11.8880 - val_accuracy: 0.3691\n",
      "Epoch 7/200\n",
      "109/109 [==============================] - 2s 17ms/step - loss: 10.6184 - accuracy: 0.3095 - val_loss: 9.4009 - val_accuracy: 0.4002\n",
      "Epoch 8/200\n",
      "109/109 [==============================] - 2s 15ms/step - loss: 8.5142 - accuracy: 0.3326 - val_loss: 7.5687 - val_accuracy: 0.4141\n",
      "Epoch 9/200\n",
      "109/109 [==============================] - 2s 15ms/step - loss: 6.9516 - accuracy: 0.3484 - val_loss: 6.1931 - val_accuracy: 0.4348\n",
      "Epoch 10/200\n",
      "109/109 [==============================] - 2s 15ms/step - loss: 5.7983 - accuracy: 0.3644 - val_loss: 5.1970 - val_accuracy: 0.4498\n",
      "Epoch 11/200\n",
      "109/109 [==============================] - 2s 16ms/step - loss: 4.9549 - accuracy: 0.3780 - val_loss: 4.3846 - val_accuracy: 0.4671\n",
      "Epoch 12/200\n",
      "109/109 [==============================] - 2s 14ms/step - loss: 4.2842 - accuracy: 0.3961 - val_loss: 3.8453 - val_accuracy: 0.4879\n",
      "Epoch 13/200\n",
      "109/109 [==============================] - 2s 14ms/step - loss: 3.8157 - accuracy: 0.4108 - val_loss: 3.3832 - val_accuracy: 0.5167\n",
      "Epoch 14/200\n",
      "109/109 [==============================] - 1s 13ms/step - loss: 3.4257 - accuracy: 0.4264 - val_loss: 3.0243 - val_accuracy: 0.5329\n",
      "Epoch 15/200\n",
      "109/109 [==============================] - 2s 13ms/step - loss: 3.1661 - accuracy: 0.4348 - val_loss: 2.7514 - val_accuracy: 0.5352\n",
      "Epoch 16/200\n",
      "109/109 [==============================] - 2s 13ms/step - loss: 2.9539 - accuracy: 0.4379 - val_loss: 2.5363 - val_accuracy: 0.5571\n",
      "Epoch 17/200\n",
      "109/109 [==============================] - 2s 14ms/step - loss: 2.7762 - accuracy: 0.4485 - val_loss: 2.3865 - val_accuracy: 0.5456\n",
      "Epoch 18/200\n",
      "109/109 [==============================] - 1s 13ms/step - loss: 2.6339 - accuracy: 0.4622 - val_loss: 2.1814 - val_accuracy: 0.5721\n",
      "Epoch 19/200\n",
      "109/109 [==============================] - 1s 12ms/step - loss: 2.4797 - accuracy: 0.4810 - val_loss: 2.0478 - val_accuracy: 0.6044\n",
      "Epoch 20/200\n",
      "109/109 [==============================] - 2s 13ms/step - loss: 2.3936 - accuracy: 0.4770 - val_loss: 1.9352 - val_accuracy: 0.6055\n",
      "Epoch 21/200\n",
      "109/109 [==============================] - 1s 12ms/step - loss: 2.2987 - accuracy: 0.4893 - val_loss: 1.8682 - val_accuracy: 0.6044\n",
      "Epoch 22/200\n",
      "109/109 [==============================] - 1s 12ms/step - loss: 2.2105 - accuracy: 0.4983 - val_loss: 1.7673 - val_accuracy: 0.6240\n",
      "Epoch 23/200\n",
      "109/109 [==============================] - 2s 13ms/step - loss: 2.1236 - accuracy: 0.5159 - val_loss: 1.7281 - val_accuracy: 0.6228\n",
      "Epoch 24/200\n",
      "109/109 [==============================] - 2s 13ms/step - loss: 2.0936 - accuracy: 0.5171 - val_loss: 1.6362 - val_accuracy: 0.6321\n",
      "Epoch 25/200\n",
      "109/109 [==============================] - 1s 12ms/step - loss: 2.0137 - accuracy: 0.5363 - val_loss: 1.6197 - val_accuracy: 0.6275\n",
      "Epoch 26/200\n",
      "109/109 [==============================] - 2s 13ms/step - loss: 1.9612 - accuracy: 0.5386 - val_loss: 1.5888 - val_accuracy: 0.6263\n",
      "Epoch 27/200\n",
      "109/109 [==============================] - 2s 13ms/step - loss: 1.9114 - accuracy: 0.5471 - val_loss: 1.4894 - val_accuracy: 0.6448\n",
      "Epoch 28/200\n",
      "109/109 [==============================] - 2s 14ms/step - loss: 1.8731 - accuracy: 0.5505 - val_loss: 1.4828 - val_accuracy: 0.6482\n",
      "Epoch 29/200\n",
      "109/109 [==============================] - 2s 14ms/step - loss: 1.8275 - accuracy: 0.5600 - val_loss: 1.4357 - val_accuracy: 0.6667\n",
      "Epoch 30/200\n",
      "109/109 [==============================] - 2s 13ms/step - loss: 1.8103 - accuracy: 0.5636 - val_loss: 1.4142 - val_accuracy: 0.6574\n",
      "Epoch 31/200\n",
      "109/109 [==============================] - 1s 13ms/step - loss: 1.7578 - accuracy: 0.5721 - val_loss: 1.3714 - val_accuracy: 0.6736\n",
      "Epoch 32/200\n",
      "109/109 [==============================] - 2s 13ms/step - loss: 1.7395 - accuracy: 0.5808 - val_loss: 1.3634 - val_accuracy: 0.6690\n",
      "Epoch 33/200\n",
      "109/109 [==============================] - 1s 13ms/step - loss: 1.7004 - accuracy: 0.5812 - val_loss: 1.3562 - val_accuracy: 0.6621\n",
      "Epoch 34/200\n",
      "109/109 [==============================] - 1s 13ms/step - loss: 1.6790 - accuracy: 0.5808 - val_loss: 1.3567 - val_accuracy: 0.6897\n",
      "Epoch 35/200\n",
      "109/109 [==============================] - 1s 13ms/step - loss: 1.6605 - accuracy: 0.5854 - val_loss: 1.3244 - val_accuracy: 0.6770\n",
      "Epoch 36/200\n",
      "109/109 [==============================] - 2s 14ms/step - loss: 1.6470 - accuracy: 0.5863 - val_loss: 1.2939 - val_accuracy: 0.6874\n",
      "Epoch 37/200\n",
      "109/109 [==============================] - 1s 12ms/step - loss: 1.6222 - accuracy: 0.5915 - val_loss: 1.2712 - val_accuracy: 0.6886\n",
      "Epoch 38/200\n",
      "109/109 [==============================] - 1s 13ms/step - loss: 1.5784 - accuracy: 0.6034 - val_loss: 1.2568 - val_accuracy: 0.6874\n",
      "Epoch 39/200\n",
      "109/109 [==============================] - 2s 14ms/step - loss: 1.5638 - accuracy: 0.6086 - val_loss: 1.2678 - val_accuracy: 0.6897\n",
      "Epoch 40/200\n",
      "109/109 [==============================] - 1s 13ms/step - loss: 1.5414 - accuracy: 0.6137 - val_loss: 1.2398 - val_accuracy: 0.7024\n",
      "Epoch 41/200\n",
      "109/109 [==============================] - 1s 13ms/step - loss: 1.5338 - accuracy: 0.6203 - val_loss: 1.2239 - val_accuracy: 0.7013\n",
      "Epoch 42/200\n",
      "109/109 [==============================] - 1s 13ms/step - loss: 1.5021 - accuracy: 0.6164 - val_loss: 1.2121 - val_accuracy: 0.7024\n",
      "Epoch 43/200\n",
      "109/109 [==============================] - 2s 14ms/step - loss: 1.4860 - accuracy: 0.6252 - val_loss: 1.2079 - val_accuracy: 0.6955\n",
      "Epoch 44/200\n",
      "109/109 [==============================] - 2s 13ms/step - loss: 1.4911 - accuracy: 0.6256 - val_loss: 1.2139 - val_accuracy: 0.6978\n",
      "Epoch 45/200\n",
      "109/109 [==============================] - 2s 13ms/step - loss: 1.4620 - accuracy: 0.6328 - val_loss: 1.1821 - val_accuracy: 0.6955\n",
      "Epoch 46/200\n",
      "109/109 [==============================] - 1s 13ms/step - loss: 1.4361 - accuracy: 0.6363 - val_loss: 1.2073 - val_accuracy: 0.7059\n",
      "Epoch 47/200\n",
      "109/109 [==============================] - 1s 13ms/step - loss: 1.4320 - accuracy: 0.6380 - val_loss: 1.1763 - val_accuracy: 0.7093\n",
      "Epoch 48/200\n",
      "109/109 [==============================] - 1s 13ms/step - loss: 1.4251 - accuracy: 0.6403 - val_loss: 1.1575 - val_accuracy: 0.7174\n",
      "Epoch 49/200\n",
      "109/109 [==============================] - 1s 13ms/step - loss: 1.4103 - accuracy: 0.6447 - val_loss: 1.1861 - val_accuracy: 0.7140\n",
      "Epoch 50/200\n",
      "109/109 [==============================] - 1s 13ms/step - loss: 1.3880 - accuracy: 0.6503 - val_loss: 1.1397 - val_accuracy: 0.7163\n",
      "Epoch 51/200\n",
      "109/109 [==============================] - 1s 12ms/step - loss: 1.3876 - accuracy: 0.6435 - val_loss: 1.1463 - val_accuracy: 0.7232\n",
      "Epoch 52/200\n",
      "109/109 [==============================] - 2s 14ms/step - loss: 1.3431 - accuracy: 0.6545 - val_loss: 1.1328 - val_accuracy: 0.7313\n",
      "Epoch 53/200\n",
      "109/109 [==============================] - 2s 14ms/step - loss: 1.3413 - accuracy: 0.6594 - val_loss: 1.1254 - val_accuracy: 0.7151\n",
      "Epoch 54/200\n",
      "109/109 [==============================] - 2s 13ms/step - loss: 1.3283 - accuracy: 0.6634 - val_loss: 1.1242 - val_accuracy: 0.7266\n",
      "Epoch 55/200\n",
      "109/109 [==============================] - 1s 13ms/step - loss: 1.3298 - accuracy: 0.6588 - val_loss: 1.1317 - val_accuracy: 0.7128\n",
      "Epoch 56/200\n",
      "109/109 [==============================] - 1s 13ms/step - loss: 1.3024 - accuracy: 0.6654 - val_loss: 1.1026 - val_accuracy: 0.7324\n",
      "Epoch 57/200\n",
      "109/109 [==============================] - 1s 13ms/step - loss: 1.3024 - accuracy: 0.6689 - val_loss: 1.1406 - val_accuracy: 0.7278\n",
      "Epoch 58/200\n",
      "109/109 [==============================] - 2s 13ms/step - loss: 1.2855 - accuracy: 0.6656 - val_loss: 1.1198 - val_accuracy: 0.7163\n",
      "Epoch 59/200\n",
      "109/109 [==============================] - 2s 14ms/step - loss: 1.2902 - accuracy: 0.6697 - val_loss: 1.0927 - val_accuracy: 0.7255\n",
      "Epoch 60/200\n",
      "109/109 [==============================] - 1s 13ms/step - loss: 1.2725 - accuracy: 0.6731 - val_loss: 1.0778 - val_accuracy: 0.7428\n",
      "Epoch 61/200\n",
      "109/109 [==============================] - 1s 12ms/step - loss: 1.2651 - accuracy: 0.6757 - val_loss: 1.0930 - val_accuracy: 0.7347\n",
      "Epoch 62/200\n",
      "109/109 [==============================] - 2s 14ms/step - loss: 1.2408 - accuracy: 0.6806 - val_loss: 1.1045 - val_accuracy: 0.7370\n",
      "Epoch 63/200\n",
      "109/109 [==============================] - 1s 13ms/step - loss: 1.2423 - accuracy: 0.6816 - val_loss: 1.1139 - val_accuracy: 0.7278\n",
      "Epoch 64/200\n",
      "109/109 [==============================] - 2s 14ms/step - loss: 1.2155 - accuracy: 0.6872 - val_loss: 1.0813 - val_accuracy: 0.7313\n",
      "Epoch 65/200\n",
      "109/109 [==============================] - 1s 13ms/step - loss: 1.2284 - accuracy: 0.6803 - val_loss: 1.1007 - val_accuracy: 0.7359\n",
      "Epoch 66/200\n",
      "109/109 [==============================] - 2s 13ms/step - loss: 1.2299 - accuracy: 0.6801 - val_loss: 1.0749 - val_accuracy: 0.7428\n",
      "Epoch 67/200\n",
      "109/109 [==============================] - 1s 13ms/step - loss: 1.1910 - accuracy: 0.6886 - val_loss: 1.1084 - val_accuracy: 0.7243\n",
      "Epoch 68/200\n",
      "109/109 [==============================] - 2s 13ms/step - loss: 1.1825 - accuracy: 0.6994 - val_loss: 1.0602 - val_accuracy: 0.7428\n",
      "Epoch 69/200\n",
      "109/109 [==============================] - 2s 13ms/step - loss: 1.1811 - accuracy: 0.6974 - val_loss: 1.0834 - val_accuracy: 0.7266\n",
      "Epoch 70/200\n",
      "109/109 [==============================] - 2s 13ms/step - loss: 1.1564 - accuracy: 0.6994 - val_loss: 1.0702 - val_accuracy: 0.7347\n",
      "Epoch 71/200\n",
      "109/109 [==============================] - 1s 13ms/step - loss: 1.1671 - accuracy: 0.6967 - val_loss: 1.1002 - val_accuracy: 0.7278\n",
      "Epoch 72/200\n",
      "109/109 [==============================] - 1s 13ms/step - loss: 1.1641 - accuracy: 0.6991 - val_loss: 1.0614 - val_accuracy: 0.7439\n",
      "Epoch 73/200\n",
      "109/109 [==============================] - 1s 12ms/step - loss: 1.1461 - accuracy: 0.7013 - val_loss: 1.0808 - val_accuracy: 0.7370\n",
      "Epoch 74/200\n",
      "109/109 [==============================] - 2s 13ms/step - loss: 1.1425 - accuracy: 0.6999 - val_loss: 1.0245 - val_accuracy: 0.7497\n",
      "Epoch 75/200\n",
      "109/109 [==============================] - 1s 13ms/step - loss: 1.1442 - accuracy: 0.7042 - val_loss: 1.0662 - val_accuracy: 0.7324\n",
      "Epoch 76/200\n",
      "109/109 [==============================] - 2s 13ms/step - loss: 1.1233 - accuracy: 0.7046 - val_loss: 1.0737 - val_accuracy: 0.7243\n",
      "Epoch 77/200\n",
      "109/109 [==============================] - 2s 14ms/step - loss: 1.1237 - accuracy: 0.7095 - val_loss: 1.0935 - val_accuracy: 0.7301\n",
      "Epoch 78/200\n",
      "109/109 [==============================] - 1s 13ms/step - loss: 1.0859 - accuracy: 0.7134 - val_loss: 1.0718 - val_accuracy: 0.7474\n",
      "Epoch 79/200\n",
      "109/109 [==============================] - 2s 14ms/step - loss: 1.1216 - accuracy: 0.7118 - val_loss: 1.0705 - val_accuracy: 0.7509\n",
      "Epoch 80/200\n",
      "109/109 [==============================] - 1s 13ms/step - loss: 1.0969 - accuracy: 0.7131 - val_loss: 1.0533 - val_accuracy: 0.7313\n",
      "Epoch 81/200\n",
      "109/109 [==============================] - 1s 13ms/step - loss: 1.0919 - accuracy: 0.7147 - val_loss: 1.0574 - val_accuracy: 0.7336\n",
      "Epoch 82/200\n",
      "109/109 [==============================] - 1s 13ms/step - loss: 1.0785 - accuracy: 0.7182 - val_loss: 1.0699 - val_accuracy: 0.7336\n",
      "Epoch 83/200\n",
      "109/109 [==============================] - 2s 14ms/step - loss: 1.0865 - accuracy: 0.7199 - val_loss: 1.0365 - val_accuracy: 0.7428\n",
      "Epoch 84/200\n",
      "109/109 [==============================] - 2s 14ms/step - loss: 1.0698 - accuracy: 0.7284 - val_loss: 1.0381 - val_accuracy: 0.7393\n",
      "Epoch 85/200\n",
      "109/109 [==============================] - 2s 14ms/step - loss: 1.0660 - accuracy: 0.7251 - val_loss: 1.0500 - val_accuracy: 0.7486\n",
      "Epoch 86/200\n",
      "109/109 [==============================] - 2s 13ms/step - loss: 1.0595 - accuracy: 0.7303 - val_loss: 1.0483 - val_accuracy: 0.7313\n",
      "Epoch 87/200\n",
      "109/109 [==============================] - 1s 13ms/step - loss: 1.0425 - accuracy: 0.7301 - val_loss: 1.0626 - val_accuracy: 0.7486\n",
      "Epoch 88/200\n",
      "109/109 [==============================] - 2s 14ms/step - loss: 1.0513 - accuracy: 0.7226 - val_loss: 1.0379 - val_accuracy: 0.7463\n",
      "Epoch 89/200\n",
      "109/109 [==============================] - 2s 14ms/step - loss: 1.0314 - accuracy: 0.7283 - val_loss: 1.0342 - val_accuracy: 0.7428\n"
     ]
    },
    {
     "data": {
      "text/plain": [
       "<keras.src.callbacks.History at 0x7fc6ec54a510>"
      ]
     },
     "execution_count": 5,
     "metadata": {},
     "output_type": "execute_result"
    }
   ],
   "source": [
    "## Train model\n",
    "from src.preprocessing import CustomDataGenerator\n",
    "\n",
    "EPOCHS = 200\n",
    "train_generator = CustomDataGenerator(X_train, y_train, batch_size=BATCH_SIZE)\n",
    "val_generator = CustomDataGenerator(X_val, y_val, batch_size=BATCH_SIZE)\n",
    "print(type(X_train))\n",
    "\n",
    "from keras.callbacks import EarlyStopping\n",
    "early_stopping = EarlyStopping(monitor='val_loss', min_delta=0.01, patience=10, restore_best_weights=True)\n",
    "\n",
    "model.fit(train_generator,\n",
    "          batch_size=BATCH_SIZE,\n",
    "          epochs=EPOCHS, \n",
    "          validation_data=val_generator, \n",
    "          callbacks=[early_stopping])\n"
   ]
  },
  {
   "cell_type": "code",
   "execution_count": 6,
   "metadata": {},
   "outputs": [
    {
     "data": {
      "text/plain": [
       "<keras.src.engine.sequential.Sequential at 0x7fc72822db90>"
      ]
     },
     "execution_count": 6,
     "metadata": {},
     "output_type": "execute_result"
    }
   ],
   "source": [
    "model"
   ]
  },
  {
   "cell_type": "code",
   "execution_count": 7,
   "metadata": {},
   "outputs": [
    {
     "data": {
      "image/png": "[encoded data removed]",
      "text/plain": [
       "<Figure size 1500x500 with 2 Axes>"
      ]
     },
     "metadata": {},
     "output_type": "display_data"
    }
   ],
   "source": [
    "from src.results import plot_history, plot_history_logloss\n",
    "plot_history_logloss(model);"
   ]
  },
  {
   "cell_type": "code",
   "execution_count": 8,
   "metadata": {},
   "outputs": [
    {
     "name": "stdout",
     "output_type": "stream",
     "text": [
      "217/217 [==============================] - 2s 8ms/step\n",
      "0.8205276055931959\n"
     ]
    }
   ],
   "source": [
    "y_pred = model.predict(X_train)\n",
    "y_pred = np.argmax(y_pred, axis=1)\n",
    "\n",
    "from sklearn.metrics import accuracy_score\n",
    "print(accuracy_score(y_train, y_pred))"
   ]
  },
  {
   "cell_type": "code",
   "execution_count": 9,
   "metadata": {},
   "outputs": [
    {
     "name": "stdout",
     "output_type": "stream",
     "text": [
      "109/109 [==============================] - 1s 6ms/step - loss: 0.7024 - accuracy: 0.8205\n"
     ]
    },
    {
     "data": {
      "text/plain": [
       "[0.7024078965187073, 0.8205276131629944]"
      ]
     },
     "execution_count": 9,
     "metadata": {},
     "output_type": "execute_result"
    }
   ],
   "source": [
    "model.evaluate(train_generator)"
   ]
  },
  {
   "cell_type": "code",
   "execution_count": 10,
   "metadata": {},
   "outputs": [
    {
     "name": "stdout",
     "output_type": "stream",
     "text": [
      "14/14 [==============================] - 0s 5ms/step - loss: 1.0245 - accuracy: 0.7497\n"
     ]
    },
    {
     "data": {
      "text/plain": [
       "[1.0245367288589478, 0.7497116327285767]"
      ]
     },
     "execution_count": 10,
     "metadata": {},
     "output_type": "execute_result"
    }
   ],
   "source": [
    "model.evaluate(val_generator)"
   ]
  },
  {
   "cell_type": "code",
   "execution_count": 11,
   "metadata": {},
   "outputs": [],
   "source": [
    "from src.dataloader import read_test\n",
    "X_test, y_test = read_test(\"input/data/train_80_10_10\")"
   ]
  },
  {
   "cell_type": "code",
   "execution_count": 12,
   "metadata": {},
   "outputs": [
    {
     "name": "stdout",
     "output_type": "stream",
     "text": [
      "28/28 [==============================] - 0s 4ms/step - loss: 1.2378 - accuracy: 0.7001\n"
     ]
    },
    {
     "data": {
      "text/plain": [
       "[1.2378149032592773, 0.7001153230667114]"
      ]
     },
     "execution_count": 12,
     "metadata": {},
     "output_type": "execute_result"
    }
   ],
   "source": [
    "model.evaluate(X_test, y_test)"
   ]
  },
  {
   "cell_type": "code",
   "execution_count": null,
   "metadata": {},
   "outputs": [],
   "source": []
  },
  {
   "cell_type": "code",
   "execution_count": null,
   "metadata": {},
   "outputs": [],
   "source": []
  },
  {
   "cell_type": "code",
   "execution_count": null,
   "metadata": {},
   "outputs": [],
   "source": []
  }
 ],
 "metadata": {
  "kernelspec": {
   "display_name": "tensorflow",
   "language": "python",
   "name": "python3"
  },
  "language_info": {
   "codemirror_mode": {
    "name": "ipython",
    "version": 3
   },
   "file_extension": ".py",
   "mimetype": "text/x-python",
   "name": "python",
   "nbconvert_exporter": "python",
   "pygments_lexer": "ipython3",
   "version": "3.11.5"
  }
 },
 "nbformat": 4,
 "nbformat_minor": 2
}
